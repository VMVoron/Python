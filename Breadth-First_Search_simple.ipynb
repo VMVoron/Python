{
 "cells": [
  {
   "cell_type": "raw",
   "id": "a4258a88-aab4-40fa-a362-068da566882d",
   "metadata": {},
   "source": [
    "Breadth-First Search"
   ]
  },
  {
   "cell_type": "code",
   "execution_count": 147,
   "id": "8fdd372e-7c12-448d-88ec-4dc8926162d9",
   "metadata": {},
   "outputs": [],
   "source": [
    "graph = {}\n",
    "graph[\"you\"] = [\"alice\", \"bob\", \"claire\"]\n",
    "graph[\"bob\"] = [\"anuj\", \"peggy\"]\n",
    "graph[\"alice\"] = [\"peggy\", \"sam\"]\n",
    "graph[\"claire\"] = [\"thom\", \"jonny\"]\n",
    "graph[\"anuj\"] = []\n",
    "graph[\"peggy\"] = []\n",
    "graph[\"thom\"] = []\n",
    "graph[\"jonny\"] = []"
   ]
  },
  {
   "cell_type": "code",
   "execution_count": 148,
   "id": "2f26c54a-0065-4c44-be54-7198d528953a",
   "metadata": {},
   "outputs": [
    {
     "data": {
      "text/plain": [
       "{'you': ['alice', 'bob', 'claire'],\n",
       " 'bob': ['anuj', 'peggy'],\n",
       " 'alice': ['peggy', 'sam'],\n",
       " 'claire': ['thom', 'jonny'],\n",
       " 'anuj': [],\n",
       " 'peggy': [],\n",
       " 'thom': [],\n",
       " 'jonny': []}"
      ]
     },
     "execution_count": 148,
     "metadata": {},
     "output_type": "execute_result"
    }
   ],
   "source": [
    "graph"
   ]
  },
  {
   "cell_type": "code",
   "execution_count": 149,
   "id": "770bc0c4-7596-4a61-9be7-b4ebfb5a666b",
   "metadata": {},
   "outputs": [],
   "source": [
    "def seller(name):\n",
    "    return name[-1] == 'm'"
   ]
  },
  {
   "cell_type": "code",
   "execution_count": 150,
   "id": "856f08cf-222a-4bfe-96e4-d1a87bc4da26",
   "metadata": {},
   "outputs": [],
   "source": [
    "from collections import deque"
   ]
  },
  {
   "cell_type": "code",
   "execution_count": 151,
   "id": "e324498e-7c60-442c-8188-8ddf73f61df8",
   "metadata": {},
   "outputs": [],
   "source": [
    "def search(name):\n",
    "    search_queue = deque() #двусторонняя очередь - дек\n",
    "    search_queue += graph[name]\n",
    "    searched = []\n",
    "    while search_queue:\n",
    "        person = search_queue.popleft()\n",
    "        if not person in searched:\n",
    "            if seller(person):\n",
    "                print(person)\n",
    "                return True\n",
    "            else:\n",
    "                search_queue += graph[person]\n",
    "                searched.append(person)\n",
    "    return False"
   ]
  },
  {
   "cell_type": "code",
   "execution_count": 152,
   "id": "a4952ad3-38bc-4611-ac1b-c5bc994f8f34",
   "metadata": {},
   "outputs": [
    {
     "name": "stdout",
     "output_type": "stream",
     "text": [
      "sam\n"
     ]
    },
    {
     "data": {
      "text/plain": [
       "True"
      ]
     },
     "execution_count": 152,
     "metadata": {},
     "output_type": "execute_result"
    }
   ],
   "source": [
    "search('you')"
   ]
  },
  {
   "cell_type": "code",
   "execution_count": 153,
   "id": "710b5a08-14af-4081-97e9-2307672ad159",
   "metadata": {},
   "outputs": [],
   "source": [
    "def search(graph):\n",
    "    names = list(graph.values())\n",
    "    names_list = [i for i in names for i in i]\n",
    "    for i in names_list:\n",
    "        if seller(i):\n",
    "            print(i)"
   ]
  },
  {
   "cell_type": "code",
   "execution_count": 154,
   "id": "d85c42a3-6bec-44ba-a325-72bd5402ceeb",
   "metadata": {},
   "outputs": [
    {
     "name": "stdout",
     "output_type": "stream",
     "text": [
      "sam\n",
      "thom\n"
     ]
    }
   ],
   "source": [
    "search(graph)"
   ]
  },
  {
   "cell_type": "code",
   "execution_count": null,
   "id": "d05d6b80-2135-428f-ba16-16bb02beac1d",
   "metadata": {},
   "outputs": [],
   "source": []
  }
 ],
 "metadata": {
  "kernelspec": {
   "display_name": "Python 3 (ipykernel)",
   "language": "python",
   "name": "python3"
  },
  "language_info": {
   "codemirror_mode": {
    "name": "ipython",
    "version": 3
   },
   "file_extension": ".py",
   "mimetype": "text/x-python",
   "name": "python",
   "nbconvert_exporter": "python",
   "pygments_lexer": "ipython3",
   "version": "3.9.7"
  }
 },
 "nbformat": 4,
 "nbformat_minor": 5
}
