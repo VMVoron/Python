{
 "cells": [
  {
   "cell_type": "markdown",
   "id": "b9ad71b5-57a3-4976-9793-30cb922c05d7",
   "metadata": {},
   "source": [
    "Breadth-First Search"
   ]
  },
  {
   "cell_type": "markdown",
   "id": "c972ce71-309a-4fb5-96fa-d13f3e360d5a",
   "metadata": {},
   "source": [
    "Поиск продавца манго в графе"
   ]
  },
  {
   "cell_type": "code",
   "execution_count": 169,
   "id": "8fdd372e-7c12-448d-88ec-4dc8926162d9",
   "metadata": {},
   "outputs": [],
   "source": [
    "graph = {}\n",
    "graph[\"you\"] = [\"alice\", \"bob\", \"claire\", 'jim']\n",
    "graph[\"bob\"] = [\"anuj\", \"peggy\"]\n",
    "graph[\"alice\"] = [\"peggy\", \"sam\"]\n",
    "graph[\"claire\"] = [\"thom\", \"jonny\"]\n",
    "graph[\"anuj\"] = []\n",
    "graph[\"peggy\"] = []\n",
    "graph[\"thom\"] = []\n",
    "graph[\"jonny\"] = []"
   ]
  },
  {
   "cell_type": "code",
   "execution_count": 170,
   "id": "2f26c54a-0065-4c44-be54-7198d528953a",
   "metadata": {},
   "outputs": [
    {
     "data": {
      "text/plain": [
       "{'you': ['alice', 'bob', 'claire', 'jim'],\n",
       " 'bob': ['anuj', 'peggy'],\n",
       " 'alice': ['peggy', 'sam'],\n",
       " 'claire': ['thom', 'jonny'],\n",
       " 'anuj': [],\n",
       " 'peggy': [],\n",
       " 'thom': [],\n",
       " 'jonny': []}"
      ]
     },
     "execution_count": 170,
     "metadata": {},
     "output_type": "execute_result"
    }
   ],
   "source": [
    "graph"
   ]
  },
  {
   "cell_type": "markdown",
   "id": "61bf1091-a87b-4c8f-9b72-1c2976d66aa5",
   "metadata": {},
   "source": [
    "Допустим, продавец - тот, у кого имя заканчивается на m"
   ]
  },
  {
   "cell_type": "code",
   "execution_count": 187,
   "id": "770bc0c4-7596-4a61-9be7-b4ebfb5a666b",
   "metadata": {},
   "outputs": [],
   "source": [
    "def seller(name):\n",
    "    return name[-1] == 'm'"
   ]
  },
  {
   "cell_type": "markdown",
   "id": "0468c231-d46e-42e1-8213-e592dbeceb25",
   "metadata": {},
   "source": [
    "Этот алгоритм ищет всех"
   ]
  },
  {
   "cell_type": "code",
   "execution_count": 188,
   "id": "800df3a0-df06-4fbd-a45c-b87c4c4416e8",
   "metadata": {},
   "outputs": [],
   "source": [
    "def search(graph):\n",
    "    names = list(graph.values())\n",
    "    names_list = [i for i in names for i in i]\n",
    "    for i in names_list:\n",
    "        if seller(i):\n",
    "            print(i)"
   ]
  },
  {
   "cell_type": "code",
   "execution_count": 189,
   "id": "7c128bda-1397-4bee-b9a0-166beaa140b2",
   "metadata": {},
   "outputs": [
    {
     "name": "stdout",
     "output_type": "stream",
     "text": [
      "jim\n",
      "sam\n",
      "thom\n"
     ]
    }
   ],
   "source": [
    "search(graph)"
   ]
  },
  {
   "cell_type": "markdown",
   "id": "a4677bfa-8bb7-44fb-9035-e86d934b31f8",
   "metadata": {},
   "source": [
    "Мы можем сказать алгоритму остановиться, добавив команду break"
   ]
  },
  {
   "cell_type": "code",
   "execution_count": 195,
   "id": "e7890aad-a910-4da1-8a94-c8b19455ba7d",
   "metadata": {},
   "outputs": [],
   "source": [
    "def search(graph):\n",
    "    names = list(graph.values())\n",
    "    names_list = [i for i in names for i in i]\n",
    "    for i in names_list:\n",
    "        if seller(i):\n",
    "            print(i)\n",
    "            break"
   ]
  },
  {
   "cell_type": "code",
   "execution_count": 197,
   "id": "be43484c-a0f8-4969-9fbe-c2dbd9cd34d9",
   "metadata": {},
   "outputs": [
    {
     "name": "stdout",
     "output_type": "stream",
     "text": [
      "jim\n"
     ]
    }
   ],
   "source": [
    "search(graph)"
   ]
  },
  {
   "cell_type": "markdown",
   "id": "b94a5971-ce26-4741-a17b-56bcb40e5e20",
   "metadata": {},
   "source": [
    "Используем поиск в ширику, используя очередь - деку"
   ]
  },
  {
   "cell_type": "code",
   "execution_count": 198,
   "id": "856f08cf-222a-4bfe-96e4-d1a87bc4da26",
   "metadata": {},
   "outputs": [],
   "source": [
    "from collections import deque"
   ]
  },
  {
   "cell_type": "code",
   "execution_count": 199,
   "id": "dac7dc26-a75d-4add-8cf8-c5cb390d974e",
   "metadata": {},
   "outputs": [],
   "source": [
    "def search(name):\n",
    "    search_queue = deque() #двусторонняя очередь - дек\n",
    "    search_queue += graph[name]\n",
    "    searched = []\n",
    "    while search_queue:\n",
    "        person = search_queue.popleft()\n",
    "        if not person in searched:\n",
    "            if seller(person):\n",
    "                print(person)\n",
    "                return True\n",
    "            else:\n",
    "                search_queue += graph[person]\n",
    "                searched.append(person)\n",
    "    return False"
   ]
  },
  {
   "cell_type": "code",
   "execution_count": 200,
   "id": "04176fd4-1086-4804-9a3c-dc8777a8b972",
   "metadata": {},
   "outputs": [
    {
     "name": "stdout",
     "output_type": "stream",
     "text": [
      "jim\n"
     ]
    },
    {
     "data": {
      "text/plain": [
       "True"
      ]
     },
     "execution_count": 200,
     "metadata": {},
     "output_type": "execute_result"
    }
   ],
   "source": [
    "search('you')"
   ]
  },
  {
   "cell_type": "markdown",
   "id": "9120b612-e669-46d2-8225-592b1d859871",
   "metadata": {},
   "source": [
    "А что, если мы захотим узнать расстояние до продавца манго?"
   ]
  },
  {
   "cell_type": "code",
   "execution_count": 201,
   "id": "e324498e-7c60-442c-8188-8ddf73f61df8",
   "metadata": {},
   "outputs": [],
   "source": [
    "def search(name):\n",
    "    search_queue = deque() #двусторонняя очередь - дек\n",
    "    search_queue += graph[name]\n",
    "    searched = []\n",
    "    i = 1\n",
    "    while True:\n",
    "        while len(search_queue) > 0:\n",
    "            person = search_queue.popleft()\n",
    "            if person not in searched:\n",
    "                if seller(person):\n",
    "                    print('\\n','Имя', person, '\\n', 'Расстояние', i)\n",
    "                    return False\n",
    "                else:\n",
    "                    searched.append(person)\n",
    "        search_queue += graph[person]\n",
    "        i += 1"
   ]
  },
  {
   "cell_type": "code",
   "execution_count": 202,
   "id": "a4952ad3-38bc-4611-ac1b-c5bc994f8f34",
   "metadata": {},
   "outputs": [
    {
     "name": "stdout",
     "output_type": "stream",
     "text": [
      "\n",
      " Имя jim \n",
      " Расстояние 1\n"
     ]
    },
    {
     "data": {
      "text/plain": [
       "False"
      ]
     },
     "execution_count": 202,
     "metadata": {},
     "output_type": "execute_result"
    }
   ],
   "source": [
    "search('you')"
   ]
  },
  {
   "cell_type": "code",
   "execution_count": null,
   "id": "d05d6b80-2135-428f-ba16-16bb02beac1d",
   "metadata": {},
   "outputs": [],
   "source": []
  }
 ],
 "metadata": {
  "kernelspec": {
   "display_name": "Python 3 (ipykernel)",
   "language": "python",
   "name": "python3"
  },
  "language_info": {
   "codemirror_mode": {
    "name": "ipython",
    "version": 3
   },
   "file_extension": ".py",
   "mimetype": "text/x-python",
   "name": "python",
   "nbconvert_exporter": "python",
   "pygments_lexer": "ipython3",
   "version": "3.9.7"
  }
 },
 "nbformat": 4,
 "nbformat_minor": 5
}
