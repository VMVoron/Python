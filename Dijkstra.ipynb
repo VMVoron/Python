{
 "cells": [
  {
   "cell_type": "markdown",
   "id": "42bbf816-9258-4c44-9344-0d49023dad80",
   "metadata": {},
   "source": [
    "Алгоритм Декстры на примере хэш-таблицы"
   ]
  },
  {
   "cell_type": "markdown",
   "id": "b965990d-fa5c-4d94-9b67-d1ab161a033e",
   "metadata": {},
   "source": [
    "Только для направленных ациклических графов"
   ]
  },
  {
   "cell_type": "markdown",
   "id": "c5e9b368-6baf-4041-ac6f-1939ffccbb90",
   "metadata": {},
   "source": [
    "\"От старта до финиша\""
   ]
  },
  {
   "cell_type": "code",
   "execution_count": 64,
   "id": "32063fdd-6bf5-41bd-b166-df76a8324525",
   "metadata": {},
   "outputs": [],
   "source": [
    "g = {}\n",
    "\n",
    "g['start'] = {}\n",
    "g['start']['a'] = 6\n",
    "g['start']['b'] = 2\n",
    "\n",
    "g['a'] = {}\n",
    "g['a']['finish'] = 1\n",
    "\n",
    "g['b'] = {}\n",
    "g['b']['a'] = 3\n",
    "g['b']['finish'] = 5\n",
    "\n",
    "g['finish'] = {}"
   ]
  },
  {
   "cell_type": "code",
   "execution_count": 65,
   "id": "0c8e1b46-6b66-4b6d-b264-3f21bdb19b2c",
   "metadata": {},
   "outputs": [],
   "source": [
    "par = [i[0] for i in g['start'].items()]"
   ]
  },
  {
   "cell_type": "code",
   "execution_count": 66,
   "id": "14882056-19eb-4d52-85ec-32adb84ef1a5",
   "metadata": {},
   "outputs": [
    {
     "data": {
      "text/plain": [
       "['a', 'b']"
      ]
     },
     "execution_count": 66,
     "metadata": {},
     "output_type": "execute_result"
    }
   ],
   "source": [
    "par"
   ]
  },
  {
   "cell_type": "markdown",
   "id": "26d3c148-24ed-4407-841d-8aeecf0cdd5d",
   "metadata": {},
   "source": [
    "Таблица издержек"
   ]
  },
  {
   "cell_type": "code",
   "execution_count": 67,
   "id": "71c947b3-7deb-4edb-b298-5cc3efafdfbd",
   "metadata": {},
   "outputs": [],
   "source": [
    "costs = {}\n",
    "for i in par:\n",
    "    costs[i] = g['start'][i]\n",
    "costs['finish'] = float('inf')"
   ]
  },
  {
   "cell_type": "markdown",
   "id": "7f6a4479-273e-452a-80ea-11a990c466d9",
   "metadata": {},
   "source": [
    "Родительская таблица"
   ]
  },
  {
   "cell_type": "code",
   "execution_count": 68,
   "id": "e7f18d4d-d45b-4742-afe2-343ba8deccbb",
   "metadata": {},
   "outputs": [],
   "source": [
    "parents = {}\n",
    "for i in par:\n",
    "    parents[i] = 'start'\n",
    "parents['in'] = None"
   ]
  },
  {
   "cell_type": "code",
   "execution_count": 69,
   "id": "1fec094a-fc7b-4793-974b-933588e77989",
   "metadata": {},
   "outputs": [],
   "source": [
    "processed = []"
   ]
  },
  {
   "cell_type": "code",
   "execution_count": 70,
   "id": "52c0276f-5c33-4fa8-b4dc-df0b333780e9",
   "metadata": {},
   "outputs": [],
   "source": [
    "def find_lowest_cost_node(costs): # определяет узел с наименьшей стоимостью \n",
    "    lowest_cost = float('inf')\n",
    "    lowest_cost_node = None\n",
    "    for node in costs:\n",
    "        cost = costs[node]\n",
    "        if cost < lowest_cost and node not in processed:\n",
    "            lowest_cost = cost\n",
    "            lowest_cost_node = node\n",
    "    return lowest_cost_node"
   ]
  },
  {
   "cell_type": "code",
   "execution_count": 71,
   "id": "e571062a-3c28-4686-8fa0-41627bb55d3c",
   "metadata": {},
   "outputs": [],
   "source": [
    "node = find_lowest_cost_node(costs)\n",
    "while node is not None:\n",
    "    cost = costs[node]\n",
    "    neighbors = g[node]\n",
    "    for n in neighbors.keys():\n",
    "        new_cost = cost + neighbors[n] # строка 42\n",
    "        if costs[n] > new_cost:\n",
    "            costs[n] = new_cost\n",
    "            parents[n] = node\n",
    "    processed.append(node)\n",
    "    node = find_lowest_cost_node(costs)"
   ]
  },
  {
   "cell_type": "code",
   "execution_count": 72,
   "id": "a1465736-edef-4b37-a062-f4b025622cf5",
   "metadata": {},
   "outputs": [
    {
     "name": "stdout",
     "output_type": "stream",
     "text": [
      "Путь:\n",
      "start -> b -> a -> finish\n",
      "Стоимость пути:\n",
      "6\n"
     ]
    }
   ],
   "source": [
    "print('Путь:')\n",
    "print('start', *processed, sep=' -> ')\n",
    "print('Стоимость пути:', costs['finish'], sep ='\\n')"
   ]
  },
  {
   "cell_type": "markdown",
   "id": "64d7f8e4-0d6f-4f30-ac3a-d75294677e0f",
   "metadata": {},
   "source": [
    "\"История одного обмена\"\n",
    "Мы хотим обменять книгу на пианино"
   ]
  },
  {
   "cell_type": "code",
   "execution_count": 73,
   "id": "5b7bac1b-a305-4b4c-b778-f2f4f7b2f68e",
   "metadata": {},
   "outputs": [],
   "source": [
    "g = {}\n",
    "g['книга'], g['пластинка'], g['постер'], g['барабан'], g['гитара'] = {}, {}, {}, {}, {}\n",
    "g['книга']['пластинка'] = 5\n",
    "g['книга']['постер'] = 0\n",
    "g['пластинка']['барабан'] = 20\n",
    "g['пластинка']['гитара'] = 15\n",
    "g['постер']['барабан'] = 35\n",
    "g['постер']['гитара'] = 30\n",
    "g['барабан']['пианино'] = 10\n",
    "g['гитара']['пианино'] = 20\n",
    "\n",
    "g['пианино'] = {}"
   ]
  },
  {
   "cell_type": "code",
   "execution_count": 74,
   "id": "ae72f8d2-2013-472d-8046-ee15523c561f",
   "metadata": {},
   "outputs": [],
   "source": [
    "par = [i[0] for i in g['книга'].items()]\n",
    "costs = {}\n",
    "parents = {}\n",
    "for i in par:\n",
    "    costs[i] = g['книга'][i]\n",
    "    parents[i] = 'книга'\n",
    "costs['пианино'] = float('inf')\n",
    "parents['in'] = None\n",
    "processed = []"
   ]
  },
  {
   "cell_type": "code",
   "execution_count": 75,
   "id": "5f90086c-94db-4f7d-9614-ae97794e738b",
   "metadata": {},
   "outputs": [
    {
     "data": {
      "text/plain": [
       "{'пластинка': 'книга', 'постер': 'книга', 'in': None}"
      ]
     },
     "execution_count": 75,
     "metadata": {},
     "output_type": "execute_result"
    }
   ],
   "source": [
    "parents"
   ]
  },
  {
   "cell_type": "code",
   "execution_count": 76,
   "id": "100f361f-f4fb-4d6e-b064-d68d5340964f",
   "metadata": {},
   "outputs": [
    {
     "data": {
      "text/plain": [
       "{'пластинка': 5, 'постер': 0, 'пианино': inf}"
      ]
     },
     "execution_count": 76,
     "metadata": {},
     "output_type": "execute_result"
    }
   ],
   "source": [
    "costs"
   ]
  },
  {
   "cell_type": "code",
   "execution_count": 78,
   "id": "44aea301-7f43-4b5b-826e-0c85b1b41243",
   "metadata": {},
   "outputs": [],
   "source": [
    "node = find_lowest_cost_node(costs)\n",
    "while node is not None:\n",
    "    cost = costs[node]\n",
    "    neighbors = g[node]\n",
    "    for n in neighbors.keys():\n",
    "        new_cost = cost + neighbors[n] # строка 42\n",
    "        try:\n",
    "            if costs[n] > new_cost:\n",
    "                costs[n] = new_cost\n",
    "                parents[n] = node\n",
    "        except KeyError:\n",
    "            costs[n] = float('inf')\n",
    "    processed.append(node)\n",
    "    node = find_lowest_cost_node(costs)"
   ]
  },
  {
   "cell_type": "code",
   "execution_count": 81,
   "id": "31fe8a2e-4f33-46da-97dd-e9c5a0d2f12f",
   "metadata": {},
   "outputs": [
    {
     "name": "stdout",
     "output_type": "stream",
     "text": [
      "Путь:\n",
      "книга -> постер -> пластинка -> гитара -> барабан -> пианино\n",
      "Стоимость пути:\n",
      "35\n"
     ]
    }
   ],
   "source": [
    "print('Путь:')\n",
    "print('книга', *processed, sep=' -> ')\n",
    "print('Стоимость пути:', costs['пианино'], sep ='\\n')"
   ]
  },
  {
   "cell_type": "markdown",
   "id": "8b523a60-8e95-4294-9b7e-6d4d106c1e94",
   "metadata": {},
   "source": [
    "Если стоимость пути отрицательная, следует воспользоваться алгоритмом Беллмана-Фрода"
   ]
  },
  {
   "cell_type": "code",
   "execution_count": null,
   "id": "59bcd5e1-e7d3-4c8c-8c8c-c41b6c1b4bd4",
   "metadata": {},
   "outputs": [],
   "source": []
  }
 ],
 "metadata": {
  "kernelspec": {
   "display_name": "Python 3 (ipykernel)",
   "language": "python",
   "name": "python3"
  },
  "language_info": {
   "codemirror_mode": {
    "name": "ipython",
    "version": 3
   },
   "file_extension": ".py",
   "mimetype": "text/x-python",
   "name": "python",
   "nbconvert_exporter": "python",
   "pygments_lexer": "ipython3",
   "version": "3.9.7"
  }
 },
 "nbformat": 4,
 "nbformat_minor": 5
}
