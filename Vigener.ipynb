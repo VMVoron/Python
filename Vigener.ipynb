{
 "cells": [
  {
   "cell_type": "markdown",
   "id": "fd50d847-e09b-4fb6-8a9d-d8a5c3bcad97",
   "metadata": {},
   "source": [
    "Шифр Виженера (простая реализация - одно слово, латиница, lower case)"
   ]
  },
  {
   "cell_type": "markdown",
   "id": "de7fdc2b-9000-4f00-a706-177ebd37926a",
   "metadata": {},
   "source": [
    "Шифр Виженера (фр. Chiffre de Vigenère) — метод полиалфавитного шифрования буквенного текста с использованием ключевого слова. (key word)\n",
    "\n",
    "Этот метод является простой формой многоалфавитной замены. \n",
    "Шифр Виженера изобретался многократно. \n",
    "Впервые этот метод описал Джовани Баттиста Белласо (итал. Giovan Battista Bellaso) в книге La cifra del. Sig. Giovan Battista Bellasо в 1553 году, \n",
    "однако в XIX веке получил имя Блеза Виженера, французского дипломата. \n",
    "Метод прост для понимания и реализации, но является недоступным для простых методов криптоанализа.\n",
    "\n",
    "Хотя шифр легко понять и реализовать, на протяжении трех столетий он противостоял всем попыткам его сломать; чем и заработал имя le chiffre indéchiffrable (фр. неразгаданный шифр). Многие люди пытались реализовать схемы шифрования, которые по сути являлись шифрами Виженера."
   ]
  },
  {
   "cell_type": "code",
   "execution_count": 40,
   "id": "41e5a377-d230-4ed6-b046-cabbe242f889",
   "metadata": {},
   "outputs": [
    {
     "name": "stdin",
     "output_type": "stream",
     "text": [
      "Input the key word sesam\n",
      "Input the word to encode message\n"
     ]
    },
    {
     "name": "stdout",
     "output_type": "stream",
     "text": [
      "['s', 'e', 's', 'a', 'm', 's', 'e']\n",
      "['m', 'e', 's', 's', 'a', 'g', 'e']\n",
      "[13, 5, 19, 19, 1, 7, 5]\n",
      "['s', 'e', 's', 'a', 'm']\n",
      "['s', 'e', 's', 'a', 'm', 's', 'e']\n",
      "[19, 5, 19, 1, 13, 19, 5]\n"
     ]
    }
   ],
   "source": [
    "key = list(input('Input the key word'))\n",
    "word = list(input('Input the word to encode'))      # input the word we want to encode\n",
    "word_ord = [ord(j) - 96 for j in word]\n",
    "l = len(word)\n",
    "lk = len(key)\n",
    "kk = [] #reformating the key word according to the length of word\n",
    "j = 0\n",
    "while j <= (l - 1):\n",
    "    for i in range(lk):\n",
    "        if j <= (l - 1): \n",
    "            kk += key[i]\n",
    "            j += 1\n",
    "print(kk)\n",
    "key_ord = [ord(j) - 96 for j in kk]\n",
    "print(word, word_ord, key, kk, key_ord, sep='\\n')"
   ]
  },
  {
   "cell_type": "code",
   "execution_count": 41,
   "id": "75acced3-42e9-4a2e-bdd8-ff4655777389",
   "metadata": {},
   "outputs": [
    {
     "name": "stdout",
     "output_type": "stream",
     "text": [
      "[6, 10, 12, 20, 14, 0, 10]\n",
      "['f', 'j', 'l', 't', 'n', '`', 'j']\n"
     ]
    }
   ],
   "source": [
    "# encoding\n",
    "out = [int(0) for i in range(l)]\n",
    "for i in range(l):\n",
    "    out[i] = (word_ord[i] + key_ord[i]) % 26\n",
    "print(out)\n",
    "word_out = [chr(j + 96) for j in out]\n",
    "print(word_out)"
   ]
  },
  {
   "cell_type": "code",
   "execution_count": 42,
   "id": "a0f9b479-2a6b-4508-a3de-a255204ed115",
   "metadata": {},
   "outputs": [
    {
     "name": "stdout",
     "output_type": "stream",
     "text": [
      "[6, 10, 12, 20, 14, 0, 10]\n",
      "[13, 5, 19, 19, 1, 7, 5]\n",
      "['m', 'e', 's', 's', 'a', 'g', 'e']\n"
     ]
    }
   ],
   "source": [
    "# decoding\n",
    "out2 = [ord(j) - 96 for j in word_out]\n",
    "print(out2)\n",
    "deciph = [int(0) for i in range(l)]\n",
    "for i in range(l):\n",
    "    deciph[i] = (out2[i] - key_ord[i]) % 26\n",
    "print(deciph)\n",
    "deciph_word = [chr(j + 96) for j in deciph]\n",
    "deciph_word = ['z' if x== '`' else x for x in deciph_word]\n",
    "print(deciph_word)"
   ]
  },
  {
   "cell_type": "code",
   "execution_count": null,
   "id": "12363816-b44f-463a-99aa-d43c3bbbfe83",
   "metadata": {},
   "outputs": [],
   "source": []
  }
 ],
 "metadata": {
  "kernelspec": {
   "display_name": "Python 3 (ipykernel)",
   "language": "python",
   "name": "python3"
  },
  "language_info": {
   "codemirror_mode": {
    "name": "ipython",
    "version": 3
   },
   "file_extension": ".py",
   "mimetype": "text/x-python",
   "name": "python",
   "nbconvert_exporter": "python",
   "pygments_lexer": "ipython3",
   "version": "3.9.7"
  }
 },
 "nbformat": 4,
 "nbformat_minor": 5
}
