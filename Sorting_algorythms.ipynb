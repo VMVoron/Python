{
 "cells": [
  {
   "cell_type": "code",
   "execution_count": 118,
   "id": "95a74edf-821f-46d0-91b6-122f0c846e54",
   "metadata": {},
   "outputs": [],
   "source": [
    "import random\n",
    "n = 100\n",
    "arr = [int(random.randrange(n)) for i in range(n)]"
   ]
  },
  {
   "cell_type": "code",
   "execution_count": 119,
   "id": "1f05a635-92a6-46af-9c59-7c857638c734",
   "metadata": {},
   "outputs": [
    {
     "name": "stdout",
     "output_type": "stream",
     "text": [
      "21 11 12 80 79 22 62 81 36 93 3 57 23 59 91 82 84 87 38 12 34 39 85 17 70 23 17 40 91 91 50 45 12 9 86 76 50 96 25 49 44 47 63 61 84 11 6 8 29 65 8 78 95 30 55 47 83 73 53 83 16 25 47 48 16 38 57 42 79 29 24 42 34 54 19 94 73 32 98 5 25 15 62 4 42 48 93 64 88 66 24 81 70 74 73 6 73 8 97 64"
     ]
    }
   ],
   "source": [
    "print(*arr, end='')"
   ]
  },
  {
   "cell_type": "raw",
   "id": "0c6479f2-5fb9-4b3c-bce5-ede7b32d804f",
   "metadata": {},
   "source": [
    "Сортировка пузырьком "
   ]
  },
  {
   "cell_type": "code",
   "execution_count": 120,
   "id": "97d48fa5-0fcd-4d7c-93da-924742331b24",
   "metadata": {},
   "outputs": [],
   "source": [
    "def bubble_sort(arr):\n",
    "    def swap(i, j):\n",
    "        arr[i], arr[j] = arr[j], arr[i]\n",
    "    n = len(arr)\n",
    "    swapped = True\n",
    "    x = -1\n",
    "    while swapped:\n",
    "        swapped = False\n",
    "        x = x + 1\n",
    "        for i in range(1, n-x):\n",
    "            if arr[i - 1] > arr[i]:\n",
    "                swap(i - 1, i)\n",
    "                swapped = True"
   ]
  },
  {
   "cell_type": "code",
   "execution_count": 121,
   "id": "6bee402a-3405-4ae5-8dde-b4136440adce",
   "metadata": {},
   "outputs": [],
   "source": [
    "bubble_sort(arr)"
   ]
  },
  {
   "cell_type": "code",
   "execution_count": 122,
   "id": "da7e3b4c-d333-462c-aa2c-d81f4b358525",
   "metadata": {},
   "outputs": [
    {
     "name": "stdout",
     "output_type": "stream",
     "text": [
      "3 4 5 6 6 8 8 8 9 11 11 12 12 12 15 16 16 17 17 19 21 22 23 23 24 24 25 25 25 29 29 30 32 34 34 36 38 38 39 40 42 42 42 44 45 47 47 47 48 48 49 50 50 53 54 55 57 57 59 61 62 62 63 64 64 65 66 70 70 73 73 73 73 74 76 78 79 79 80 81 81 82 83 83 84 84 85 86 87 88 91 91 91 93 93 94 95 96 97 98"
     ]
    }
   ],
   "source": [
    "print(*arr, end ='')"
   ]
  },
  {
   "cell_type": "raw",
   "id": "fcd08a9a-41cc-478c-b5dd-6c52d318bc1d",
   "metadata": {},
   "source": [
    "Сортировка выбором"
   ]
  },
  {
   "cell_type": "code",
   "execution_count": 136,
   "id": "f3812d39-3d5a-4f48-8e6f-5965e4637056",
   "metadata": {},
   "outputs": [],
   "source": [
    "arr = [int(random.randrange(n)) for i in range(n)]"
   ]
  },
  {
   "cell_type": "code",
   "execution_count": 137,
   "id": "9e6c7653-d045-4c91-b1ee-3ccbe476645b",
   "metadata": {},
   "outputs": [],
   "source": [
    "def findSmallest(arr):\n",
    "    smallest = arr[0]\n",
    "    smallest_ind = 0\n",
    "    for i in range(1, len(arr)):\n",
    "        if arr[i] < smallest:\n",
    "            smallest = arr[i]\n",
    "            smallest_ind = i\n",
    "    return smallest_ind"
   ]
  },
  {
   "cell_type": "code",
   "execution_count": 138,
   "id": "6cb194fe-29ae-4416-9888-525d66b94fb2",
   "metadata": {},
   "outputs": [],
   "source": [
    "def selectionSort(arr):\n",
    "    newArr = []\n",
    "    for i in range(len(arr)):\n",
    "        smallest = findSmallest(arr)\n",
    "        a = arr.pop(smallest)\n",
    "        newArr.append(a)\n",
    "    return newArr"
   ]
  },
  {
   "cell_type": "code",
   "execution_count": 139,
   "id": "dd137ef6-d574-459a-95ad-09b70f2ac65a",
   "metadata": {},
   "outputs": [
    {
     "name": "stdout",
     "output_type": "stream",
     "text": [
      "0 0 1 2 5 6 6 6 6 6 9 9 9 10 11 11 12 16 16 16 19 19 19 21 22 22 22 23 23 23 24 25 25 26 27 27 27 28 28 28 30 30 30 33 34 35 35 36 37 38 38 39 39 40 41 42 43 45 46 49 52 52 52 53 53 57 57 58 61 65 66 66 67 67 67 68 70 71 71 72 72 73 74 74 82 84 84 85 85 86 88 88 91 94 94 95 96 97 99 99"
     ]
    }
   ],
   "source": [
    "print(*selectionSort(arr), end = '')"
   ]
  },
  {
   "cell_type": "raw",
   "id": "e26e159e-827f-48a3-a899-b24c5b444e68",
   "metadata": {},
   "source": [
    "Сортировка вставками"
   ]
  },
  {
   "cell_type": "code",
   "execution_count": 140,
   "id": "ff33b039-e42d-4b29-b436-28a161d34159",
   "metadata": {},
   "outputs": [],
   "source": [
    "arr = [int(random.randrange(n)) for i in range(n)]"
   ]
  },
  {
   "cell_type": "code",
   "execution_count": 141,
   "id": "3c3cc0a6-3ed0-4a37-aa23-05b137afd59d",
   "metadata": {},
   "outputs": [],
   "source": [
    "def insertion_sort(arr):\n",
    "        \n",
    "    for i in range(len(arr)):\n",
    "        cursor = arr[i]\n",
    "        pos = i\n",
    "        \n",
    "        while pos > 0 and arr[pos - 1] > cursor:\n",
    "            # Меняем местами число, продвигая по списку\n",
    "            arr[pos] = arr[pos - 1]\n",
    "            pos = pos - 1\n",
    "        # Остановимся и сделаем последний обмен\n",
    "        arr[pos] = cursor\n",
    "\n",
    "    return arr"
   ]
  },
  {
   "cell_type": "code",
   "execution_count": 142,
   "id": "eff900a2-66e9-4985-afd5-b3d61cc6bd52",
   "metadata": {},
   "outputs": [
    {
     "name": "stdout",
     "output_type": "stream",
     "text": [
      "2 2 2 4 4 5 8 8 8 8 8 9 9 10 12 12 13 13 13 14 14 15 18 18 19 20 21 23 24 25 25 25 26 27 27 27 28 29 31 32 32 32 33 35 36 38 38 38 38 39 40 42 43 44 47 47 47 52 54 55 56 57 58 59 60 60 63 63 65 66 67 70 70 71 74 75 75 77 77 78 78 79 79 80 80 82 82 82 84 85 85 85 86 88 88 89 94 94 95 99"
     ]
    }
   ],
   "source": [
    "print(*insertion_sort(arr), end='')"
   ]
  },
  {
   "cell_type": "raw",
   "id": "da8952a8-b9ff-4548-9cde-6e8953dd5cfd",
   "metadata": {},
   "source": [
    "Сортировка слиянием"
   ]
  },
  {
   "cell_type": "code",
   "execution_count": 143,
   "id": "15a8e937-8191-42f7-a52e-b7caa587ee9c",
   "metadata": {},
   "outputs": [],
   "source": [
    "arr = [int(random.randrange(n)) for i in range(n)]"
   ]
  },
  {
   "cell_type": "code",
   "execution_count": 144,
   "id": "08d7b168-3b09-4232-8cc9-6a4cb0fabfba",
   "metadata": {},
   "outputs": [],
   "source": [
    "def merge_sort(arr):\n",
    "\n",
    "    if len(arr) < 2: return arr\n",
    "\n",
    "    result, mid = [], int(len(arr)/2)\n",
    "\n",
    "    y = merge_sort(arr[:mid])\n",
    "    z = merge_sort(arr[mid:])\n",
    "\n",
    "    while (len(y) > 0) and (len(z) > 0):\n",
    "            if y[0] > z[0]:result.append(z.pop(0))   \n",
    "            else:result.append(y.pop(0))\n",
    "\n",
    "    result.extend(y+z)\n",
    "    return result"
   ]
  },
  {
   "cell_type": "code",
   "execution_count": 145,
   "id": "032ad2eb-8933-493e-9464-025fc7aed6b6",
   "metadata": {},
   "outputs": [
    {
     "name": "stdout",
     "output_type": "stream",
     "text": [
      "0 0 1 2 2 3 5 5 6 6 7 7 8 8 9 9 9 14 14 15 15 16 16 21 22 22 22 23 23 23 23 25 28 28 29 29 29 31 32 33 34 35 36 36 37 39 39 42 44 44 44 44 47 48 48 48 49 51 51 52 53 54 55 56 57 58 58 59 60 67 69 69 69 71 71 72 76 76 76 78 79 80 80 80 80 81 82 83 84 84 86 89 90 92 92 92 94 95 96 98"
     ]
    }
   ],
   "source": [
    "print(*merge_sort(arr), end='')"
   ]
  },
  {
   "cell_type": "raw",
   "id": "bdd237bb-1d4a-4ba7-bdd8-d1fbe4a71f8a",
   "metadata": {},
   "source": [
    "Быстрая сортировка"
   ]
  },
  {
   "cell_type": "code",
   "execution_count": 194,
   "id": "468102ff-15af-49cd-8016-554b98b1454d",
   "metadata": {},
   "outputs": [],
   "source": [
    "n = 100"
   ]
  },
  {
   "cell_type": "code",
   "execution_count": 195,
   "id": "43d3bb86-6188-41a0-b331-4094920fcbfe",
   "metadata": {},
   "outputs": [],
   "source": [
    "arr = [int(random.randrange(n)) for i in range(n)]"
   ]
  },
  {
   "cell_type": "code",
   "execution_count": 196,
   "id": "7866a294-bbad-40bb-a44a-71527eb82d77",
   "metadata": {},
   "outputs": [],
   "source": [
    "def quicksort(arr):\n",
    "    if len(arr) < 2: return arr\n",
    "    else:\n",
    "        pivot = arr[0]\n",
    "        less = [i for i in arr[1:] if i < pivot]\n",
    "        greater = [i for i in arr[1:] if i > pivot]\n",
    "        return quicksort(less) + [pivot] + quicksort(greater)"
   ]
  },
  {
   "cell_type": "code",
   "execution_count": 197,
   "id": "bcd1e51e-9920-46f4-acaf-c29d8f9ea64e",
   "metadata": {},
   "outputs": [
    {
     "name": "stdout",
     "output_type": "stream",
     "text": [
      "1 2 3 4 7 8 9 10 12 13 14 18 19 20 21 22 23 24 26 29 30 34 35 36 37 38 39 40 41 42 43 44 45 46 47 48 50 51 53 57 60 61 64 66 75 78 79 81 82 83 84 86 87 88 89 90 91 92 93 94 96 99"
     ]
    }
   ],
   "source": [
    "print(*quicksort(arr), end='')"
   ]
  },
  {
   "cell_type": "code",
   "execution_count": 200,
   "id": "30e51051-9419-4276-a701-16efac414f15",
   "metadata": {},
   "outputs": [],
   "source": [
    "n = 10**6"
   ]
  },
  {
   "cell_type": "code",
   "execution_count": 201,
   "id": "303aa57e-1ea3-460d-9e89-e5113b31f27f",
   "metadata": {},
   "outputs": [
    {
     "name": "stdout",
     "output_type": "stream",
     "text": [
      "--- 3.9154322147369385 seconds ---\n"
     ]
    }
   ],
   "source": [
    "import time\n",
    "start_time = time.time()\n",
    "arr = [int(random.randrange(n)) for i in range(n)]\n",
    "quicksort(arr)\n",
    "print(\"--- %s seconds ---\" % (time.time() - start_time))"
   ]
  },
  {
   "cell_type": "code",
   "execution_count": 202,
   "id": "e31e5291-79a1-4b3f-87da-bee790f04838",
   "metadata": {},
   "outputs": [
    {
     "name": "stdout",
     "output_type": "stream",
     "text": [
      "--- 4.372780799865723 seconds ---\n"
     ]
    }
   ],
   "source": [
    "start_time = time.time()\n",
    "arr = [int(random.randrange(n)) for i in range(n)]\n",
    "quicksort2(arr)\n",
    "print(\"--- %s seconds ---\" % (time.time() - start_time))"
   ]
  },
  {
   "cell_type": "code",
   "execution_count": 203,
   "id": "51e94c03-3c66-4d08-9a91-90acad15ee0f",
   "metadata": {},
   "outputs": [
    {
     "name": "stdout",
     "output_type": "stream",
     "text": [
      "--- 1.0399315357208252 seconds ---\n"
     ]
    }
   ],
   "source": [
    "start_time = time.time()\n",
    "arr = [int(random.randrange(n)) for i in range(n)]\n",
    "arr.sort()\n",
    "print(\"--- %s seconds ---\" % (time.time() - start_time))"
   ]
  },
  {
   "cell_type": "raw",
   "id": "6d3959e8-2b9b-44e7-ba41-9fde87e30d08",
   "metadata": {},
   "source": [
    "Sorting tuples"
   ]
  },
  {
   "cell_type": "code",
   "execution_count": 204,
   "id": "1f0b943f-3dee-46f2-a689-5b8a539fa99c",
   "metadata": {},
   "outputs": [],
   "source": [
    "student_tuples = [\n",
    "    ('john', 'A', 15),\n",
    "    ('jane', 'B', 12),\n",
    "    ('dave', 'B', 10),\n",
    "]  # sort by age"
   ]
  },
  {
   "cell_type": "code",
   "execution_count": 205,
   "id": "e6fb9c8a-3dfd-4e6e-bbaf-005b90823aeb",
   "metadata": {},
   "outputs": [
    {
     "data": {
      "text/plain": [
       "[('dave', 'B', 10), ('jane', 'B', 12), ('john', 'A', 15)]"
      ]
     },
     "execution_count": 205,
     "metadata": {},
     "output_type": "execute_result"
    }
   ],
   "source": [
    "sorted(student_tuples, key=lambda student: student[2]) "
   ]
  },
  {
   "cell_type": "code",
   "execution_count": 206,
   "id": "7a8a4c94-5ffb-4098-a479-0bf03851a86b",
   "metadata": {},
   "outputs": [],
   "source": [
    "class Student:\n",
    "    def __init__(self, name, grade, age):\n",
    "        self.name = name\n",
    "        self.grade = grade\n",
    "        self.age = age\n",
    "    def __repr__(self):\n",
    "        return repr((self.name, self.grade, self.age))"
   ]
  },
  {
   "cell_type": "code",
   "execution_count": 207,
   "id": "615b6429-0bef-4696-8f11-58a57efd135b",
   "metadata": {},
   "outputs": [],
   "source": [
    "student_objects = [\n",
    "    Student('john', 'A', 15),\n",
    "    Student('jane', 'B', 12),\n",
    "    Student('dave', 'B', 10),\n",
    "]"
   ]
  },
  {
   "cell_type": "code",
   "execution_count": 208,
   "id": "fc21f075-7d05-4ab1-a63a-2a296437b251",
   "metadata": {},
   "outputs": [
    {
     "data": {
      "text/plain": [
       "[('dave', 'B', 10), ('jane', 'B', 12), ('john', 'A', 15)]"
      ]
     },
     "execution_count": 208,
     "metadata": {},
     "output_type": "execute_result"
    }
   ],
   "source": [
    "sorted(student_objects, key=lambda student: student.age)   # sort by age"
   ]
  },
  {
   "cell_type": "code",
   "execution_count": 209,
   "id": "78ed14b6-52b7-495c-8647-206926e5f347",
   "metadata": {},
   "outputs": [],
   "source": [
    "from operator import itemgetter, attrgetter"
   ]
  },
  {
   "cell_type": "code",
   "execution_count": 210,
   "id": "367a2630-968f-44c3-87df-4429d7fe8d5b",
   "metadata": {},
   "outputs": [
    {
     "data": {
      "text/plain": [
       "[('dave', 'B', 10), ('jane', 'B', 12), ('john', 'A', 15)]"
      ]
     },
     "execution_count": 210,
     "metadata": {},
     "output_type": "execute_result"
    }
   ],
   "source": [
    "sorted(student_objects, key=attrgetter('age'))"
   ]
  },
  {
   "cell_type": "code",
   "execution_count": 211,
   "id": "36f935e4-654e-4288-8f36-2b5e61900243",
   "metadata": {},
   "outputs": [
    {
     "data": {
      "text/plain": [
       "[('dave', 'B', 10), ('jane', 'B', 12), ('john', 'A', 15)]"
      ]
     },
     "execution_count": 211,
     "metadata": {},
     "output_type": "execute_result"
    }
   ],
   "source": [
    "sorted(student_tuples, key=itemgetter(2))"
   ]
  },
  {
   "cell_type": "code",
   "execution_count": 214,
   "id": "0c85adc9-a677-4ef4-b29e-de70bc3be63e",
   "metadata": {},
   "outputs": [
    {
     "data": {
      "text/plain": [
       "[('jane', 'B', 12), ('dave', 'B', 10), ('john', 'A', 15)]"
      ]
     },
     "execution_count": 214,
     "metadata": {},
     "output_type": "execute_result"
    }
   ],
   "source": [
    "sorted(student_objects, key=attrgetter('grade', 'age'), reverse = True)"
   ]
  },
  {
   "cell_type": "code",
   "execution_count": 215,
   "id": "9f712629-95c2-450d-ab4f-a6ed560c77ad",
   "metadata": {},
   "outputs": [
    {
     "data": {
      "text/plain": [
       "[('john', 'A', 15), ('dave', 'B', 10), ('jane', 'B', 12)]"
      ]
     },
     "execution_count": 215,
     "metadata": {},
     "output_type": "execute_result"
    }
   ],
   "source": [
    "sorted(student_tuples, key=itemgetter(1,2))"
   ]
  },
  {
   "cell_type": "code",
   "execution_count": 216,
   "id": "4cdbe747-d34a-4cdf-9ac9-0ef3c6da44b6",
   "metadata": {},
   "outputs": [],
   "source": [
    "def multisort(xs, specs):\n",
    "    for key, reverse in reversed(specs):\n",
    "        xs.sort(key=attrgetter(key), reverse=reverse)\n",
    "    return xs"
   ]
  },
  {
   "cell_type": "code",
   "execution_count": 217,
   "id": "98a820fd-8784-48ea-8b14-a26263aa393d",
   "metadata": {},
   "outputs": [
    {
     "data": {
      "text/plain": [
       "[('dave', 'B', 10), ('jane', 'B', 12), ('john', 'A', 15)]"
      ]
     },
     "execution_count": 217,
     "metadata": {},
     "output_type": "execute_result"
    }
   ],
   "source": [
    "multisort(list(student_objects), (('grade', True), ('age', False)))"
   ]
  },
  {
   "cell_type": "code",
   "execution_count": 224,
   "id": "2d2f7054-2855-475b-955a-5bcdb93453b3",
   "metadata": {},
   "outputs": [],
   "source": [
    "students = ['dave', 'john', 'jane']\n",
    "newgrades = {'john': 'F', 'jane':'A', 'dave': 'C'}"
   ]
  },
  {
   "cell_type": "code",
   "execution_count": 226,
   "id": "76cfc085-44df-4afd-92ed-0a03cf0cfc91",
   "metadata": {},
   "outputs": [
    {
     "data": {
      "text/plain": [
       "['jane', 'dave', 'john']"
      ]
     },
     "execution_count": 226,
     "metadata": {},
     "output_type": "execute_result"
    }
   ],
   "source": [
    "sorted(students, key=newgrades.__getitem__, reverse = False)"
   ]
  },
  {
   "cell_type": "code",
   "execution_count": null,
   "id": "81d3bcc0-175a-4f73-a95d-8a2c06aeaacf",
   "metadata": {},
   "outputs": [],
   "source": []
  }
 ],
 "metadata": {
  "kernelspec": {
   "display_name": "Python 3 (ipykernel)",
   "language": "python",
   "name": "python3"
  },
  "language_info": {
   "codemirror_mode": {
    "name": "ipython",
    "version": 3
   },
   "file_extension": ".py",
   "mimetype": "text/x-python",
   "name": "python",
   "nbconvert_exporter": "python",
   "pygments_lexer": "ipython3",
   "version": "3.9.7"
  }
 },
 "nbformat": 4,
 "nbformat_minor": 5
}
