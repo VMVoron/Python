{
 "cells": [
  {
   "cell_type": "code",
   "execution_count": 72,
   "id": "27fb981a-335e-4cff-9ffb-5087b1e1d702",
   "metadata": {},
   "outputs": [
    {
     "name": "stdout",
     "output_type": "stream",
     "text": [
      "Requirement already satisfied: pymystem3 in c:\\programdata\\anaconda3\\lib\\site-packages (0.2.0)\n",
      "Requirement already satisfied: requests in c:\\programdata\\anaconda3\\lib\\site-packages (from pymystem3) (2.28.2)\n",
      "Requirement already satisfied: charset-normalizer<4,>=2 in c:\\programdata\\anaconda3\\lib\\site-packages (from requests->pymystem3) (2.0.4)\n",
      "Requirement already satisfied: urllib3<1.27,>=1.21.1 in c:\\programdata\\anaconda3\\lib\\site-packages (from requests->pymystem3) (1.26.7)\n",
      "Requirement already satisfied: certifi>=2017.4.17 in c:\\programdata\\anaconda3\\lib\\site-packages (from requests->pymystem3) (2021.10.8)\n",
      "Requirement already satisfied: idna<4,>=2.5 in c:\\programdata\\anaconda3\\lib\\site-packages (from requests->pymystem3) (3.2)\n"
     ]
    },
    {
     "name": "stderr",
     "output_type": "stream",
     "text": [
      "WARNING: Ignoring invalid distribution -atplotlib (c:\\programdata\\anaconda3\\lib\\site-packages)\n",
      "WARNING: Ignoring invalid distribution -atplotlib (c:\\programdata\\anaconda3\\lib\\site-packages)\n",
      "WARNING: Ignoring invalid distribution -atplotlib (c:\\programdata\\anaconda3\\lib\\site-packages)\n",
      "WARNING: Ignoring invalid distribution -atplotlib (c:\\programdata\\anaconda3\\lib\\site-packages)\n",
      "WARNING: Ignoring invalid distribution -atplotlib (c:\\programdata\\anaconda3\\lib\\site-packages)\n",
      "WARNING: Ignoring invalid distribution -atplotlib (c:\\programdata\\anaconda3\\lib\\site-packages)\n"
     ]
    },
    {
     "name": "stdout",
     "output_type": "stream",
     "text": [
      "Requirement already satisfied: dostoevsky in c:\\programdata\\anaconda3\\lib\\site-packages (0.6.0)\n",
      "Requirement already satisfied: razdel==0.5.0 in c:\\programdata\\anaconda3\\lib\\site-packages (from dostoevsky) (0.5.0)\n",
      "Requirement already satisfied: fasttext==0.9.2 in c:\\programdata\\anaconda3\\lib\\site-packages (from dostoevsky) (0.9.2)\n",
      "Requirement already satisfied: pybind11>=2.2 in c:\\programdata\\anaconda3\\lib\\site-packages (from fasttext==0.9.2->dostoevsky) (2.10.3)\n",
      "Requirement already satisfied: setuptools>=0.7.0 in c:\\programdata\\anaconda3\\lib\\site-packages (from fasttext==0.9.2->dostoevsky) (58.0.4)\n",
      "Requirement already satisfied: numpy in c:\\programdata\\anaconda3\\lib\\site-packages (from fasttext==0.9.2->dostoevsky) (1.22.4)\n"
     ]
    },
    {
     "name": "stderr",
     "output_type": "stream",
     "text": [
      "WARNING: Ignoring invalid distribution -atplotlib (c:\\programdata\\anaconda3\\lib\\site-packages)\n",
      "WARNING: Ignoring invalid distribution -atplotlib (c:\\programdata\\anaconda3\\lib\\site-packages)\n",
      "WARNING: Ignoring invalid distribution -atplotlib (c:\\programdata\\anaconda3\\lib\\site-packages)\n",
      "WARNING: Ignoring invalid distribution -atplotlib (c:\\programdata\\anaconda3\\lib\\site-packages)\n",
      "WARNING: Ignoring invalid distribution -atplotlib (c:\\programdata\\anaconda3\\lib\\site-packages)\n",
      "WARNING: Ignoring invalid distribution -atplotlib (c:\\programdata\\anaconda3\\lib\\site-packages)\n"
     ]
    }
   ],
   "source": [
    "import pandas as pd\n",
    "!pip install pymystem3\n",
    "!pip install dostoevsky\n",
    "from pymystem3 import Mystem\n",
    "from datetime import datetime\n",
    "from dostoevsky.tokenization import RegexTokenizer\n",
    "from dostoevsky.models import FastTextSocialNetworkModel"
   ]
  },
  {
   "cell_type": "code",
   "execution_count": 73,
   "id": "81f8b061-6f6e-4503-bd60-e390ff1d4bb4",
   "metadata": {},
   "outputs": [
    {
     "name": "stdout",
     "output_type": "stream",
     "text": [
      "Opening a csv file...\n",
      "Successful!\n",
      "---------------------------------\n"
     ]
    }
   ],
   "source": [
    "#-----------------------------------------------------\n",
    "#Здесь мы удаляем лишние символы/цифры/стоп-слова\n",
    "#-----------------------------------------------------\n",
    "print(\"Opening a csv file...\")\n",
    "dat = dat = pd.read_csv(r'C:\\Users\\msvic\\TON\\public_wallposts.csv', encoding='UTF-8', sep=';', index_col = 0, on_bad_lines='skip', low_memory = False)\n",
    "print(\"Successful!\")\n",
    "print(\"---------------------------------\")"
   ]
  },
  {
   "cell_type": "code",
   "execution_count": 74,
   "id": "4522740f-a7f5-4520-83e2-43ab0608945e",
   "metadata": {},
   "outputs": [
    {
     "data": {
      "text/plain": [
       "39596"
      ]
     },
     "execution_count": 74,
     "metadata": {},
     "output_type": "execute_result"
    }
   ],
   "source": [
    "len(dat)"
   ]
  },
  {
   "cell_type": "code",
   "execution_count": 78,
   "id": "48ec9d07-a03c-4210-8c5c-81a3fa86612d",
   "metadata": {},
   "outputs": [
    {
     "data": {
      "text/html": [
       "<div>\n",
       "<style scoped>\n",
       "    .dataframe tbody tr th:only-of-type {\n",
       "        vertical-align: middle;\n",
       "    }\n",
       "\n",
       "    .dataframe tbody tr th {\n",
       "        vertical-align: top;\n",
       "    }\n",
       "\n",
       "    .dataframe thead th {\n",
       "        text-align: right;\n",
       "    }\n",
       "</style>\n",
       "<table border=\"1\" class=\"dataframe\">\n",
       "  <thead>\n",
       "    <tr style=\"text-align: right;\">\n",
       "      <th></th>\n",
       "      <th>НАЗВАНИЕ ВЛАДЕЛЬЦА</th>\n",
       "      <th>ПОДПИСЧИКОВ/ДРУЗЕЙ</th>\n",
       "      <th>ССЫЛКА НА ВЛАДЕЛЬЦА СТЕНЫ</th>\n",
       "      <th>ССЫЛКА НА АВТОРА ПОСТА</th>\n",
       "      <th>ССЫЛКА НА ПОСТ С УЧЁТОМ АВТОРА</th>\n",
       "      <th>ДАТА ПУБЛИКАЦИИ</th>\n",
       "      <th>ТЕКСТ</th>\n",
       "      <th>ИЛЛЮСТРАЦИИ</th>\n",
       "      <th>ЛАЙКОВ</th>\n",
       "      <th>РЕПОСТОВ</th>\n",
       "      <th>КОММЕНТАРИЕВ</th>\n",
       "      <th>ПРОСМОТРОВ</th>\n",
       "      <th>ИСТОЧНИК</th>\n",
       "      <th>НАЗВАНИЕ ИСТОЧНИКА</th>\n",
       "      <th>ССЫЛКА НА ВИДЕО</th>\n",
       "      <th>ДОКУМЕНТЫ</th>\n",
       "      <th>ТЕКСТ2</th>\n",
       "    </tr>\n",
       "    <tr>\n",
       "      <th>ССЫЛКА НА ПОСТ</th>\n",
       "      <th></th>\n",
       "      <th></th>\n",
       "      <th></th>\n",
       "      <th></th>\n",
       "      <th></th>\n",
       "      <th></th>\n",
       "      <th></th>\n",
       "      <th></th>\n",
       "      <th></th>\n",
       "      <th></th>\n",
       "      <th></th>\n",
       "      <th></th>\n",
       "      <th></th>\n",
       "      <th></th>\n",
       "      <th></th>\n",
       "      <th></th>\n",
       "      <th></th>\n",
       "    </tr>\n",
       "  </thead>\n",
       "  <tbody>\n",
       "    <tr>\n",
       "      <th>https://vk.com/wall-26260_1388373</th>\n",
       "      <td>Наш дом — Гражданка | Калининский район | СПб</td>\n",
       "      <td>47195</td>\n",
       "      <td>https://vk.com/club26260</td>\n",
       "      <td>https://vk.com/id97020171</td>\n",
       "      <td>https://vk.com/id97020171?w=wall-26260_1388373</td>\n",
       "      <td>2023-04-19 21:05</td>\n",
       "      <td>#бесплатно 20 апреля в 18:00  можно послушать ...</td>\n",
       "      <td>https://sun9-63.userapi.com/impg/zmwhesEVETdA4...</td>\n",
       "      <td>2</td>\n",
       "      <td>0</td>\n",
       "      <td>0</td>\n",
       "      <td>1909</td>\n",
       "      <td>https://vk.com/wall-114730291_17850</td>\n",
       "      <td>Муниципальный округ №21</td>\n",
       "      <td>NaN</td>\n",
       "      <td>NaN</td>\n",
       "      <td>#бесплатно 20 апреля в 18:00  можно послушать ...</td>\n",
       "    </tr>\n",
       "    <tr>\n",
       "      <th>https://vk.com/wall-26260_1388361</th>\n",
       "      <td>Наш дом — Гражданка | Калининский район | СПб</td>\n",
       "      <td>47195</td>\n",
       "      <td>https://vk.com/club26260</td>\n",
       "      <td>https://vk.com/id97020171</td>\n",
       "      <td>https://vk.com/id97020171?w=wall-26260_1388361</td>\n",
       "      <td>2023-04-19 20:05</td>\n",
       "      <td>Уважаемые жители МО 21! Приходите за билетами ...</td>\n",
       "      <td>https://sun9-31.userapi.com/impg/rz53N2ZndxMRD...</td>\n",
       "      <td>3</td>\n",
       "      <td>3</td>\n",
       "      <td>0</td>\n",
       "      <td>2636</td>\n",
       "      <td>https://vk.com/wall-114730291_17818</td>\n",
       "      <td>Муниципальный округ №21</td>\n",
       "      <td>NaN</td>\n",
       "      <td>NaN</td>\n",
       "      <td>Уважаемые жители МО 21! Приходите за билетами ...</td>\n",
       "    </tr>\n",
       "    <tr>\n",
       "      <th>https://vk.com/wall-26260_1388351</th>\n",
       "      <td>Наш дом — Гражданка | Калининский район | СПб</td>\n",
       "      <td>47195</td>\n",
       "      <td>https://vk.com/club26260</td>\n",
       "      <td>https://vk.com/club26260</td>\n",
       "      <td>https://vk.com/club26260?w=wall-26260_1388351</td>\n",
       "      <td>2023-04-19 19:05</td>\n",
       "      <td>Приглашаем в стоматологию \"СолоДент\"  Адрес: п...</td>\n",
       "      <td>https://sun9-80.userapi.com/impg/h5gjX9UAUFv3D...</td>\n",
       "      <td>3</td>\n",
       "      <td>3</td>\n",
       "      <td>0</td>\n",
       "      <td>2360</td>\n",
       "      <td>NaN</td>\n",
       "      <td>NaN</td>\n",
       "      <td>NaN</td>\n",
       "      <td>NaN</td>\n",
       "      <td>Приглашаем в стоматологию \"СолоДент\"  Адрес: п...</td>\n",
       "    </tr>\n",
       "    <tr>\n",
       "      <th>https://vk.com/wall-26260_1388335</th>\n",
       "      <td>Наш дом — Гражданка | Калининский район | СПб</td>\n",
       "      <td>47195</td>\n",
       "      <td>https://vk.com/club26260</td>\n",
       "      <td>https://vk.com/id97020171</td>\n",
       "      <td>https://vk.com/id97020171?w=wall-26260_1388335</td>\n",
       "      <td>2023-04-19 18:05</td>\n",
       "      <td>«Служба помощи МАЛОМОБИЛЬНЫМ ГРУППАМ НАСЕЛЕНИЯ...</td>\n",
       "      <td>https://sun9-6.userapi.com/impg/dNs0A26mG_wXu8...</td>\n",
       "      <td>9</td>\n",
       "      <td>3</td>\n",
       "      <td>0</td>\n",
       "      <td>2145</td>\n",
       "      <td>https://vk.com/wall-114730291_17828</td>\n",
       "      <td>Муниципальный округ №21</td>\n",
       "      <td>NaN</td>\n",
       "      <td>NaN</td>\n",
       "      <td>«Служба помощи МАЛОМОБИЛЬНЫМ ГРУППАМ НАСЕЛЕНИЯ...</td>\n",
       "    </tr>\n",
       "    <tr>\n",
       "      <th>https://vk.com/wall-26260_1388319</th>\n",
       "      <td>Наш дом — Гражданка | Калининский район | СПб</td>\n",
       "      <td>47195</td>\n",
       "      <td>https://vk.com/club26260</td>\n",
       "      <td>https://vk.com/id340281</td>\n",
       "      <td>https://vk.com/id340281?w=wall-26260_1388319</td>\n",
       "      <td>2023-04-19 17:05</td>\n",
       "      <td>Кто потерял карту?</td>\n",
       "      <td>https://sun9-68.userapi.com/impg/56VVAC0j35HXH...</td>\n",
       "      <td>0</td>\n",
       "      <td>1</td>\n",
       "      <td>1</td>\n",
       "      <td>2897</td>\n",
       "      <td>NaN</td>\n",
       "      <td>NaN</td>\n",
       "      <td>NaN</td>\n",
       "      <td>NaN</td>\n",
       "      <td>Кто потерял карту?</td>\n",
       "    </tr>\n",
       "  </tbody>\n",
       "</table>\n",
       "</div>"
      ],
      "text/plain": [
       "                                                              НАЗВАНИЕ ВЛАДЕЛЬЦА  \\\n",
       "ССЫЛКА НА ПОСТ                                                                     \n",
       "https://vk.com/wall-26260_1388373  Наш дом — Гражданка | Калининский район | СПб   \n",
       "https://vk.com/wall-26260_1388361  Наш дом — Гражданка | Калининский район | СПб   \n",
       "https://vk.com/wall-26260_1388351  Наш дом — Гражданка | Калининский район | СПб   \n",
       "https://vk.com/wall-26260_1388335  Наш дом — Гражданка | Калининский район | СПб   \n",
       "https://vk.com/wall-26260_1388319  Наш дом — Гражданка | Калининский район | СПб   \n",
       "\n",
       "                                   ПОДПИСЧИКОВ/ДРУЗЕЙ  \\\n",
       "ССЫЛКА НА ПОСТ                                          \n",
       "https://vk.com/wall-26260_1388373               47195   \n",
       "https://vk.com/wall-26260_1388361               47195   \n",
       "https://vk.com/wall-26260_1388351               47195   \n",
       "https://vk.com/wall-26260_1388335               47195   \n",
       "https://vk.com/wall-26260_1388319               47195   \n",
       "\n",
       "                                  ССЫЛКА НА ВЛАДЕЛЬЦА СТЕНЫ  \\\n",
       "ССЫЛКА НА ПОСТ                                                \n",
       "https://vk.com/wall-26260_1388373  https://vk.com/club26260   \n",
       "https://vk.com/wall-26260_1388361  https://vk.com/club26260   \n",
       "https://vk.com/wall-26260_1388351  https://vk.com/club26260   \n",
       "https://vk.com/wall-26260_1388335  https://vk.com/club26260   \n",
       "https://vk.com/wall-26260_1388319  https://vk.com/club26260   \n",
       "\n",
       "                                      ССЫЛКА НА АВТОРА ПОСТА  \\\n",
       "ССЫЛКА НА ПОСТ                                                 \n",
       "https://vk.com/wall-26260_1388373  https://vk.com/id97020171   \n",
       "https://vk.com/wall-26260_1388361  https://vk.com/id97020171   \n",
       "https://vk.com/wall-26260_1388351   https://vk.com/club26260   \n",
       "https://vk.com/wall-26260_1388335  https://vk.com/id97020171   \n",
       "https://vk.com/wall-26260_1388319    https://vk.com/id340281   \n",
       "\n",
       "                                                   ССЫЛКА НА ПОСТ С УЧЁТОМ АВТОРА  \\\n",
       "ССЫЛКА НА ПОСТ                                                                      \n",
       "https://vk.com/wall-26260_1388373  https://vk.com/id97020171?w=wall-26260_1388373   \n",
       "https://vk.com/wall-26260_1388361  https://vk.com/id97020171?w=wall-26260_1388361   \n",
       "https://vk.com/wall-26260_1388351   https://vk.com/club26260?w=wall-26260_1388351   \n",
       "https://vk.com/wall-26260_1388335  https://vk.com/id97020171?w=wall-26260_1388335   \n",
       "https://vk.com/wall-26260_1388319    https://vk.com/id340281?w=wall-26260_1388319   \n",
       "\n",
       "                                    ДАТА ПУБЛИКАЦИИ  \\\n",
       "ССЫЛКА НА ПОСТ                                        \n",
       "https://vk.com/wall-26260_1388373  2023-04-19 21:05   \n",
       "https://vk.com/wall-26260_1388361  2023-04-19 20:05   \n",
       "https://vk.com/wall-26260_1388351  2023-04-19 19:05   \n",
       "https://vk.com/wall-26260_1388335  2023-04-19 18:05   \n",
       "https://vk.com/wall-26260_1388319  2023-04-19 17:05   \n",
       "\n",
       "                                                                               ТЕКСТ  \\\n",
       "ССЫЛКА НА ПОСТ                                                                         \n",
       "https://vk.com/wall-26260_1388373  #бесплатно 20 апреля в 18:00  можно послушать ...   \n",
       "https://vk.com/wall-26260_1388361  Уважаемые жители МО 21! Приходите за билетами ...   \n",
       "https://vk.com/wall-26260_1388351  Приглашаем в стоматологию \"СолоДент\"  Адрес: п...   \n",
       "https://vk.com/wall-26260_1388335  «Служба помощи МАЛОМОБИЛЬНЫМ ГРУППАМ НАСЕЛЕНИЯ...   \n",
       "https://vk.com/wall-26260_1388319                                 Кто потерял карту?   \n",
       "\n",
       "                                                                         ИЛЛЮСТРАЦИИ  \\\n",
       "ССЫЛКА НА ПОСТ                                                                         \n",
       "https://vk.com/wall-26260_1388373  https://sun9-63.userapi.com/impg/zmwhesEVETdA4...   \n",
       "https://vk.com/wall-26260_1388361  https://sun9-31.userapi.com/impg/rz53N2ZndxMRD...   \n",
       "https://vk.com/wall-26260_1388351  https://sun9-80.userapi.com/impg/h5gjX9UAUFv3D...   \n",
       "https://vk.com/wall-26260_1388335  https://sun9-6.userapi.com/impg/dNs0A26mG_wXu8...   \n",
       "https://vk.com/wall-26260_1388319  https://sun9-68.userapi.com/impg/56VVAC0j35HXH...   \n",
       "\n",
       "                                   ЛАЙКОВ  РЕПОСТОВ  КОММЕНТАРИЕВ  ПРОСМОТРОВ  \\\n",
       "ССЫЛКА НА ПОСТ                                                                  \n",
       "https://vk.com/wall-26260_1388373       2         0             0        1909   \n",
       "https://vk.com/wall-26260_1388361       3         3             0        2636   \n",
       "https://vk.com/wall-26260_1388351       3         3             0        2360   \n",
       "https://vk.com/wall-26260_1388335       9         3             0        2145   \n",
       "https://vk.com/wall-26260_1388319       0         1             1        2897   \n",
       "\n",
       "                                                              ИСТОЧНИК  \\\n",
       "ССЫЛКА НА ПОСТ                                                           \n",
       "https://vk.com/wall-26260_1388373  https://vk.com/wall-114730291_17850   \n",
       "https://vk.com/wall-26260_1388361  https://vk.com/wall-114730291_17818   \n",
       "https://vk.com/wall-26260_1388351                                  NaN   \n",
       "https://vk.com/wall-26260_1388335  https://vk.com/wall-114730291_17828   \n",
       "https://vk.com/wall-26260_1388319                                  NaN   \n",
       "\n",
       "                                        НАЗВАНИЕ ИСТОЧНИКА ССЫЛКА НА ВИДЕО  \\\n",
       "ССЫЛКА НА ПОСТ                                                               \n",
       "https://vk.com/wall-26260_1388373  Муниципальный округ №21             NaN   \n",
       "https://vk.com/wall-26260_1388361  Муниципальный округ №21             NaN   \n",
       "https://vk.com/wall-26260_1388351                      NaN             NaN   \n",
       "https://vk.com/wall-26260_1388335  Муниципальный округ №21             NaN   \n",
       "https://vk.com/wall-26260_1388319                      NaN             NaN   \n",
       "\n",
       "                                  ДОКУМЕНТЫ  \\\n",
       "ССЫЛКА НА ПОСТ                                \n",
       "https://vk.com/wall-26260_1388373       NaN   \n",
       "https://vk.com/wall-26260_1388361       NaN   \n",
       "https://vk.com/wall-26260_1388351       NaN   \n",
       "https://vk.com/wall-26260_1388335       NaN   \n",
       "https://vk.com/wall-26260_1388319       NaN   \n",
       "\n",
       "                                                                              ТЕКСТ2  \n",
       "ССЫЛКА НА ПОСТ                                                                        \n",
       "https://vk.com/wall-26260_1388373  #бесплатно 20 апреля в 18:00  можно послушать ...  \n",
       "https://vk.com/wall-26260_1388361  Уважаемые жители МО 21! Приходите за билетами ...  \n",
       "https://vk.com/wall-26260_1388351  Приглашаем в стоматологию \"СолоДент\"  Адрес: п...  \n",
       "https://vk.com/wall-26260_1388335  «Служба помощи МАЛОМОБИЛЬНЫМ ГРУППАМ НАСЕЛЕНИЯ...  \n",
       "https://vk.com/wall-26260_1388319                                 Кто потерял карту?  "
      ]
     },
     "execution_count": 78,
     "metadata": {},
     "output_type": "execute_result"
    }
   ],
   "source": [
    "dat.head()"
   ]
  },
  {
   "cell_type": "code",
   "execution_count": 77,
   "id": "956e571f-b2a1-4093-ac60-87f7209ef988",
   "metadata": {},
   "outputs": [],
   "source": [
    "dat['ТЕКСТ2'] = dat['ТЕКСТ']"
   ]
  },
  {
   "cell_type": "code",
   "execution_count": 59,
   "id": "cf488d4d-d66a-40b1-be99-bd3ec7b3b434",
   "metadata": {},
   "outputs": [
    {
     "data": {
      "text/plain": [
       "'#бесплатно 20 апреля в 18:00  можно послушать лекцию  «Цветники новой волны – тренды городского озеленения».   📍Что такое  луговые, природные цветники или цветники «новой волны»?  📍Насколько реально создать цветники в городе, в своем дворе и что для этого нужно?  📍Как подобрать растения и ухаживать за таким цветником?    ☝Ответы на эти вопросы вы узнаете на встрече с членом Лиги специалистов ландшафтной отрасли Северо-Запада, ландшафтным дизайнером Екатериной Шабуровой.    20 апреля в 18:00 в Центральной районной библиотеке им. В. Г. Белинского по адресу: Гражданский пр., д. 83, корп. 1.    📞Запись по телефону: 242-37-23    Лекция - часть  экологического марафона Сажаем деревья вместе /Эко марафон , который  объединяет образовательные учреждения, коммерческие компании, советы домов Калининского района. В  этом году партнерами экомарафона стали библиотеки Калининского района и Лига специалистов ландшафтной отрасли Северо-Запада.'"
      ]
     },
     "execution_count": 59,
     "metadata": {},
     "output_type": "execute_result"
    }
   ],
   "source": [
    "dat['ТЕКСТ2'][0]"
   ]
  },
  {
   "cell_type": "code",
   "execution_count": 79,
   "id": "e41dacdd-5a45-491e-8c6d-e0a43e47f544",
   "metadata": {},
   "outputs": [
    {
     "name": "stdout",
     "output_type": "stream",
     "text": [
      "Cleaning text...\n",
      "Successful!\n",
      "---------------------------------\n"
     ]
    }
   ],
   "source": [
    "\n",
    "print(\"Cleaning text...\")\n",
    "with open(\"C:/myR/stopwords.txt\", \"r\", encoding=\"UTF-8\") as file: #Считываем стоп-слова из файла\n",
    "    stop_words_src = file.readlines()\n",
    "stop_words = [word.strip() for word in stop_words_src]\n",
    "dat['ТЕКСТ2'] = dat['ТЕКСТ']\n",
    "dat['ТЕКСТ2'] = dat['ТЕКСТ2'].str.lower().str.replace(\"<[^>]*>\", \" \", regex=True) #Удаляем знаки\n",
    "dat['ТЕКСТ2'] = dat['ТЕКСТ2'].str.replace(\"\\r|\\n\", \"\", regex=True) #Удаляем переходы на новую строку\n",
    "dat['ТЕКСТ2'] = dat['ТЕКСТ2'].str.replace(\"\\[[^[]*\\|\", \"\", regex=True)\n",
    "dat['ТЕКСТ2'] = dat['ТЕКСТ2'].str.replace(\"[^\\w\\s]\", \" \", regex=True)\n",
    "dat['ТЕКСТ2'] = dat['ТЕКСТ2'].str.replace(\"ё\", \"е\", regex=True) #Заменяем \"ё\" на \"е\"\n",
    "dat['ТЕКСТ2'] = dat['ТЕКСТ2'].str.replace(\"\\s\\s+\", \" \", regex=True)\n",
    "dat['ТЕКСТ2'] = dat['ТЕКСТ2'].str.replace(\"\\d\", \"\", regex=True) #Удаляем цифры\n",
    "dat['ТЕКСТ2'] = dat['ТЕКСТ2'].str.replace(\"  \", \" \", regex=True) #Удаляем двойные пробелы\n",
    "dat['ТЕКСТ2'] = dat['ТЕКСТ2'].str.strip() #Удаляем пробелы в обоих концах строк\n",
    "dat['ТЕКСТ2'] = dat['ТЕКСТ2'].str.replace(\"[a-z]\", \"\", regex=True)\n",
    "dat['ТЕКСТ2'] = dat['ТЕКСТ2'].str.replace(\"[A-Z]\", \"\", regex=True)\n",
    "\n",
    "#Удаляем стоп-слова\n",
    "for idx, item in dat.iterrows():\n",
    "    if isinstance(item['ТЕКСТ2'], str):\n",
    "        str_cleaned = [word for word in item['ТЕКСТ2'].split(' ') if (word not in stop_words)]\n",
    "        dat.loc[idx, 'ТЕКСТ2'] = \" \".join(str_cleaned)\n",
    "print(\"Successful!\")\n",
    "print(\"---------------------------------\")"
   ]
  },
  {
   "cell_type": "raw",
   "id": "c2ceac48-dff5-4cb9-9689-1b3dff3fa8b6",
   "metadata": {},
   "source": [
    "dat['ТЕКСТ3'] = dat['ТЕКСТ2']\n",
    "\n",
    "#postnum = dat.shape[0]\n",
    "postnum = len(dat)\n",
    "counter = 1\n",
    "#-----------------------------------------------------\n",
    "#Здесь мы лемматизируем текст\n",
    "#-----------------------------------------------------\n",
    "print(\"Lemmanizing text...\")\n",
    "list_len = 0 \n",
    "mystr = \"\"\n",
    "i = 0\n",
    "counter = 0\n",
    "dat_text = dat['ТЕКСТ3']\n",
    "\n",
    "for counter in range(postnum+1):\n",
    "    if type(dat_text[counter + 1]) is str:\n",
    "        text = dat_text[counter + 1] #копируем текст поста\n",
    "        m = Mystem()\n",
    "        lemmas = m.lemmatize(text) #лемматизируем текст\n",
    "        list_len = len(lemmas) #узнаем количество слов в list'е lemmas (удвоенное\n",
    "        if list_len > 0:       #проверяем есть ли слова в посте\n",
    "            if list_len == 2:   #проверяем больше ли одного слова в посте\n",
    "                mystr = lemmas[0]   #приравниваем строку для записи в csv файл с единственным словом в посте\n",
    "            elif list_len > 2:      # == если в посте больше двух слов\n",
    "                list_len -=2        # кол-во элементов в списке на 1 больше индекса последнего элемента списка;\n",
    "                                     # последний элемент данного списка == '\\n'\n",
    "                while (i <= list_len):      #цикл считывания леммати\n",
    "                    mystr += lemmas[i] + \" \"    #прибавляем слова к строке для записи с пробелом на конце\n",
    "                    i += 2                  #так как в списке все слова имеют четный индекс, то прибавляем 2\n",
    "        dat.at[counter+1,'ТЕКСТ3'] = mystr\n",
    "        mystr = \"\"  #обнуляем переменные для следующего захода в цикл\n",
    "        i = 0\n",
    "    if counter % 1000 == 0:\n",
    "        print(counter)\n",
    "print(\"Successful!\")\n",
    "print(\"---------------------------------\")"
   ]
  },
  {
   "cell_type": "code",
   "execution_count": 52,
   "id": "d41ab132-35f3-43c8-9115-30e97e0f0001",
   "metadata": {},
   "outputs": [
    {
     "data": {
      "text/plain": [
       "5626"
      ]
     },
     "execution_count": 52,
     "metadata": {},
     "output_type": "execute_result"
    }
   ],
   "source": [
    "counter"
   ]
  },
  {
   "cell_type": "code",
   "execution_count": 63,
   "id": "d9d5e352-f974-493e-9272-262010d4f5b0",
   "metadata": {},
   "outputs": [
    {
     "data": {
      "text/plain": [
       "'приглашаем стоматологию солодент адрес науки академическая тел      второй филиал озерки луначарского  стоматология дентал данной клинике оказывается весь спектр стоматологических услуг числе программе омс льготному протезированию тел записи   ждем'"
      ]
     },
     "execution_count": 63,
     "metadata": {},
     "output_type": "execute_result"
    }
   ],
   "source": [
    "dat['ТЕКСТ2'][2]"
   ]
  },
  {
   "cell_type": "code",
   "execution_count": 62,
   "id": "b75bd3b0-13da-4986-a6b1-edcf26e87d1b",
   "metadata": {},
   "outputs": [
    {
     "data": {
      "text/plain": [
       "39596"
      ]
     },
     "execution_count": 62,
     "metadata": {},
     "output_type": "execute_result"
    }
   ],
   "source": [
    "dat.shape[0]"
   ]
  },
  {
   "cell_type": "raw",
   "id": "87934f91-bd5b-4064-8340-b6372852c585",
   "metadata": {},
   "source": [
    "\n",
    "#Удаляем стоп-слова\n",
    "for idx, item in dat.iterrows():\n",
    "    if isinstance(item['ТЕКСТ2'], str):\n",
    "        str_cleaned = [word for word in item['d.response.items.text.edit'].split(' ') if (word not in stop_words)]\n",
    "        dat.loc[idx, 'd.response.items.text.edit'] = \" \".join(str_cleaned)\n",
    "print(\"Successful!\")\n",
    "print(\"---------------------------------\")\n"
   ]
  },
  {
   "cell_type": "raw",
   "id": "520305f5-2c99-4f53-bbdc-809faa571a92",
   "metadata": {},
   "source": [
    "\n",
    "postnum = len(dat)+1\n",
    "counter = 1\n",
    "while counter <= postnum:\n",
    "    if type(dat['ТЕКСТ2'][counter]) is str:\n",
    "        tempstr = dat['ТЕКСТ2'][counter]\n",
    "        words = tempstr.split()\n",
    "        if len(words) < 10:\n",
    "            dat.drop([counter], inplace=True)\n",
    "            counter = counter + 1\n",
    "        else:\n",
    "            counter = counter + 1\n",
    "    else:\n",
    "        dat.drop([counter], inplace=True)\n",
    "        counter = counter + 1\n",
    "\n",
    "dat = dat.reset_index()\n",
    "#dat = dat.drop(columns=['id'])\n",
    "dat = dat.rename(index=lambda x: x + 1)"
   ]
  },
  {
   "cell_type": "code",
   "execution_count": null,
   "id": "d9d4afe2-870c-45d6-bbea-28e94fa24392",
   "metadata": {},
   "outputs": [
    {
     "name": "stderr",
     "output_type": "stream",
     "text": [
      "Warning : `load_model` does not return WordVectorModel or SupervisedModel any more, but a `FastText` object which is very similar.\n"
     ]
    },
    {
     "name": "stdout",
     "output_type": "stream",
     "text": [
      "Calculating tonalities...\n",
      "Successful!\n",
      "---------------------------------\n",
      "Saving calculations into dataframe...\n",
      "1000\n",
      "2000\n",
      "3000\n",
      "4000\n",
      "5000\n",
      "6000\n",
      "7000\n",
      "8000\n",
      "9000\n",
      "10000\n",
      "11000\n",
      "12000\n",
      "13000\n",
      "14000\n",
      "15000\n",
      "16000\n",
      "17000\n",
      "18000\n"
     ]
    }
   ],
   "source": [
    "\n",
    "\n",
    "#-----------------------------------------------------\n",
    "#Здесь мы считаем тональности\n",
    "#-----------------------------------------------------\n",
    "tokenizer = RegexTokenizer()\n",
    "model = FastTextSocialNetworkModel(tokenizer=tokenizer)\n",
    "print(\"Calculating tonalities...\")\n",
    "\n",
    "i = 0 #Счетчик\n",
    "numofrows = dat.shape[0] - 2 #Количество строк в файле\n",
    "messages = [] #Пустой список для записи текста, в котором будем считать тональности\n",
    "dat_text = list(dat['ТЕКСТ2'])\n",
    "\n",
    "while (i <= numofrows):\n",
    "    if type(dat_text[i + 1]) is str:\n",
    "        messages.append(dat_text[i + 1])\n",
    "    else:\n",
    "        messages.append('')\n",
    "    i = i + 1\n",
    "\n",
    "results = model.predict(messages, k=3)\n",
    "print(\"Successful!\")\n",
    "print(\"---------------------------------\")\n",
    "\n",
    "#Создаем столбцы для записи необходимых тональностей\n",
    "dat['d.response.items.positive'] = 0\n",
    "dat['d.response.items.neutral'] = 0\n",
    "dat['d.response.items.negative'] = 0\n",
    "dat['d.response.items.sentiment'] = 0\n",
    "dat['d.response.items.sentiment.value'] = 0\n",
    "\n",
    "print(\"Saving calculations into dataframe...\")\n",
    "#Записываем в датафрейм результаты расчета тональностей\n",
    "i = 0\n",
    "\n",
    "dat_pos = dat['d.response.items.positive']\n",
    "dat_neu = dat['d.response.items.neutral']\n",
    "dat_neg = dat['d.response.items.negative'] \n",
    "while (i <= numofrows):\n",
    "    if type(dat_text[i + 1]) is str:\n",
    "        try:\n",
    "            dat.at[i + 1, 'd.response.items.positive'] = results[i]['positive']\n",
    "            dat_pos.at[i + 1] = results[i]['positive']\n",
    "        except KeyError:\n",
    "            dat.at[i + 1, 'd.response.items.positive'] = 0\n",
    "            dat_pos.at[i + 1] = 0\n",
    "        try:\n",
    "            dat.at[i + 1, 'd.response.items.neutral'] = results[i]['neutral']\n",
    "            dat_neu.at[i + 1] = results[i]['neutral']\n",
    "        except KeyError:\n",
    "            dat.at[i + 1, 'd.response.items.neutral'] = 0\n",
    "            dat_neu.at[i + 1] = 0\n",
    "        try:\n",
    "            dat.at[i + 1, 'd.response.items.negative'] = results[i]['negative']\n",
    "            dat_neg.at[i + 1] = results[i]['negative']\n",
    "        except KeyError:\n",
    "            dat.at[i + 1, 'd.response.items.negative'] = 0\n",
    "            dat_neg.at[i + 1] = 0\n",
    "    else:\n",
    "        dat.at[i + 1, 'd.response.items.positive'] = 0\n",
    "        dat.at[i + 1, 'd.response.items.neutral'] = 0\n",
    "        dat.at[i + 1, 'd.response.items.negative'] = 0\n",
    "\n",
    "        dat_pos.at[i + 1] = 0\n",
    "        dat_neu.at[i + 1] = 0\n",
    "        dat_neg.at[i + 1] = 0\n",
    "\n",
    "    if (dat_pos[i + 1] > dat_neu.at[i + 1]):\n",
    "        if (dat_pos[i + 1] > dat_neg.at[i + 1]):\n",
    "            dat.at[i + 1,'d.response.items.sentiment'] = 1\n",
    "            dat.at[i + 1,'d.response.items.sentiment.value'] = dat_pos[i + 1]\n",
    "        else:\n",
    "            dat.at[i + 1,'d.response.items.sentiment'] = 3\n",
    "            dat.at[i + 1,'d.response.items.sentiment.value'] = dat_neg[i + 1]\n",
    "    else:\n",
    "        if (dat_neu[i + 1] > dat_neg.at[i + 1]):\n",
    "            dat.at[i + 1,'d.response.items.sentiment'] = 2\n",
    "            dat.at[i + 1,'d.response.items.sentiment.value'] = dat_neu[i + 1]\n",
    "        else:\n",
    "            dat.at[i + 1,'d.response.items.sentiment'] = 3\n",
    "            dat.at[i + 1,'d.response.items.sentiment.value'] = dat_neg[i + 1]\n",
    "\n",
    "    i = i + 1\n",
    "    if i % 1000 == 0:\n",
    "        print(i)\n",
    "    \n",
    "print(\"Successful!\")\n",
    "print(\"---------------------------------\")\n"
   ]
  },
  {
   "cell_type": "code",
   "execution_count": null,
   "id": "0a20d64e-1d4b-42d7-ba2e-83143f44a2c3",
   "metadata": {},
   "outputs": [],
   "source": [
    "i"
   ]
  },
  {
   "cell_type": "code",
   "execution_count": 69,
   "id": "369f9208-a662-4f9d-b046-b977eeb7038a",
   "metadata": {},
   "outputs": [
    {
     "data": {
      "text/plain": [
       "48105"
      ]
     },
     "execution_count": 69,
     "metadata": {},
     "output_type": "execute_result"
    }
   ],
   "source": [
    "numofrows"
   ]
  },
  {
   "cell_type": "code",
   "execution_count": null,
   "id": "150b3b89-65b2-4a27-9ea1-741a532a9336",
   "metadata": {},
   "outputs": [],
   "source": [
    "\n",
    "#-----------------------------------------------------\n",
    "#Здесь мы считаем ER и сразу записываем в датафрейм\n",
    "#-----------------------------------------------------\n",
    "print(\"Calculating ER...\")\n",
    "dat['d.response.items.er'] = 0\n",
    "dat_likes = dat['d.response.items.likes.count']\n",
    "dat_comments = dat['d.response.items.comments.count']\n",
    "dat_views = dat['d.response.items.views.count']\n",
    "dat_reposts = dat['d.response.items.reposts.count']\n",
    "i = 0\n",
    "while (i <= numofrows):\n",
    "    dat.at[i + 1, 'd.response.items.er'] = ((dat_comments[i + 1] + dat_likes[i + 1] + dat_reposts[i + 1])/ dat_views[i + 1]) * 100\n",
    "    i = i + 1\n",
    "print(\"Successful!\")\n",
    "print(\"---------------------------------\")\n",
    "print(\"Saving dataframe as file...\")\n",
    "dat.to_csv('C:/myR/kalin3_n1.csv', sep = ';')\n",
    "print(\"Successful!\")"
   ]
  }
 ],
 "metadata": {
  "kernelspec": {
   "display_name": "Python 3 (ipykernel)",
   "language": "python",
   "name": "python3"
  },
  "language_info": {
   "codemirror_mode": {
    "name": "ipython",
    "version": 3
   },
   "file_extension": ".py",
   "mimetype": "text/x-python",
   "name": "python",
   "nbconvert_exporter": "python",
   "pygments_lexer": "ipython3",
   "version": "3.9.7"
  }
 },
 "nbformat": 4,
 "nbformat_minor": 5
}
